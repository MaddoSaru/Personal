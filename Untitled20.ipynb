{
  "nbformat": 4,
  "nbformat_minor": 0,
  "metadata": {
    "colab": {
      "name": "Untitled20.ipynb",
      "provenance": [],
      "collapsed_sections": [],
      "authorship_tag": "ABX9TyNfN5TRuEMq+9mrZWr33NYd",
      "include_colab_link": true
    },
    "kernelspec": {
      "name": "python3",
      "display_name": "Python 3"
    }
  },
  "cells": [
    {
      "cell_type": "markdown",
      "metadata": {
        "id": "view-in-github",
        "colab_type": "text"
      },
      "source": [
        "<a href=\"https://colab.research.google.com/github/MaddoSaru/Personal/blob/master/Untitled20.ipynb\" target=\"_parent\"><img src=\"https://colab.research.google.com/assets/colab-badge.svg\" alt=\"Open In Colab\"/></a>"
      ]
    },
    {
      "cell_type": "markdown",
      "metadata": {
        "id": "RllIYgiwz6Dg",
        "colab_type": "text"
      },
      "source": [
        "# **FORMATO**"
      ]
    },
    {
      "cell_type": "code",
      "metadata": {
        "id": "-Qew13WKdZhO",
        "colab_type": "code",
        "colab": {}
      },
      "source": [
        "# Importar librerías\n",
        "\n",
        "import pandas as pd\n",
        "import numpy as np\n",
        "import openpyxl\n",
        "from datetime import date\n",
        "from datetime import datetime"
      ],
      "execution_count": null,
      "outputs": []
    },
    {
      "cell_type": "code",
      "metadata": {
        "id": "gZRFCl0UemUU",
        "colab_type": "code",
        "colab": {
          "base_uri": "https://localhost:8080/",
          "height": 397
        },
        "outputId": "130b01c1-a40c-4c79-b958-8d2db537b169"
      },
      "source": [
        "# Importar dataset\n",
        "\n",
        "dataset = pd.read_excel(\"Comandas.xls\", skiprows=2)\n",
        "dataset.head()"
      ],
      "execution_count": null,
      "outputs": [
        {
          "output_type": "execute_result",
          "data": {
            "text/html": [
              "<div>\n",
              "<style scoped>\n",
              "    .dataframe tbody tr th:only-of-type {\n",
              "        vertical-align: middle;\n",
              "    }\n",
              "\n",
              "    .dataframe tbody tr th {\n",
              "        vertical-align: top;\n",
              "    }\n",
              "\n",
              "    .dataframe thead th {\n",
              "        text-align: right;\n",
              "    }\n",
              "</style>\n",
              "<table border=\"1\" class=\"dataframe\">\n",
              "  <thead>\n",
              "    <tr style=\"text-align: right;\">\n",
              "      <th></th>\n",
              "      <th>Fecha comanda</th>\n",
              "      <th>Fecha de asignacion</th>\n",
              "      <th>Numero de comanda</th>\n",
              "      <th>Codigo producto</th>\n",
              "      <th>Nombre producto</th>\n",
              "      <th>Cantidad</th>\n",
              "      <th>Nombre cliente</th>\n",
              "      <th>Email cliente</th>\n",
              "      <th>Direccion de despacho</th>\n",
              "      <th>Direccion de facturacion</th>\n",
              "      <th>Metodo de despacho</th>\n",
              "      <th>Precio despacho</th>\n",
              "      <th>Metodo de pago</th>\n",
              "      <th>Total orden</th>\n",
              "      <th>Estado</th>\n",
              "    </tr>\n",
              "  </thead>\n",
              "  <tbody>\n",
              "    <tr>\n",
              "      <th>0</th>\n",
              "      <td>2020-09-13</td>\n",
              "      <td>2020-09-14 20:51:48.677024</td>\n",
              "      <td>1000088197</td>\n",
              "      <td>10350001</td>\n",
              "      <td>CLORURO DE MAGNESIO 90 CAP 500 mg</td>\n",
              "      <td>2</td>\n",
              "      <td>Hugo  Ortiz Basso</td>\n",
              "      <td>hortizbasso@gmail.com</td>\n",
              "      <td>Rio Loa 7843\\nRio Loa 7843  LAS CONDES</td>\n",
              "      <td>Rio Loa 7843\\nRio Loa 7843  LAS CONDES</td>\n",
              "      <td>Promoción por compras sobre $35.000, DESPACHO ...</td>\n",
              "      <td>0</td>\n",
              "      <td>Webpay Plus</td>\n",
              "      <td>36640</td>\n",
              "      <td>DESPACHADO</td>\n",
              "    </tr>\n",
              "    <tr>\n",
              "      <th>1</th>\n",
              "      <td>2020-09-13</td>\n",
              "      <td>2020-09-14 20:51:48.677024</td>\n",
              "      <td>1000088197</td>\n",
              "      <td>23502023</td>\n",
              "      <td>COLAGENO PLUS  60 CAPS. HERBOLARIA</td>\n",
              "      <td>8</td>\n",
              "      <td>Hugo  Ortiz Basso</td>\n",
              "      <td>hortizbasso@gmail.com</td>\n",
              "      <td>Rio Loa 7843\\nRio Loa 7843  LAS CONDES</td>\n",
              "      <td>Rio Loa 7843\\nRio Loa 7843  LAS CONDES</td>\n",
              "      <td>Promoción por compras sobre $35.000, DESPACHO ...</td>\n",
              "      <td>0</td>\n",
              "      <td>Webpay Plus</td>\n",
              "      <td>36640</td>\n",
              "      <td>DESPACHADO</td>\n",
              "    </tr>\n",
              "    <tr>\n",
              "      <th>2</th>\n",
              "      <td>2020-09-13</td>\n",
              "      <td>2020-09-14 20:51:48.737913</td>\n",
              "      <td>1000088198</td>\n",
              "      <td>11031114</td>\n",
              "      <td>CREMA REGENERADORA MATICO SKU  176266999</td>\n",
              "      <td>1</td>\n",
              "      <td>Myriam   Guzman</td>\n",
              "      <td>mylyguzman1@gmail.com</td>\n",
              "      <td>Pasaje Salitrera Primitiva 0908  PUENTE ALTO</td>\n",
              "      <td>Pasaje Salitrera Primitiva 0908  PUENTE ALTO</td>\n",
              "      <td>Despacho por - Chilexpress</td>\n",
              "      <td>3915</td>\n",
              "      <td>Webpay Plus</td>\n",
              "      <td>12745</td>\n",
              "      <td>DESPACHADO</td>\n",
              "    </tr>\n",
              "    <tr>\n",
              "      <th>3</th>\n",
              "      <td>2020-09-13</td>\n",
              "      <td>2020-09-14 20:51:48.737913</td>\n",
              "      <td>1000088198</td>\n",
              "      <td>39060669</td>\n",
              "      <td>MANTECA DE CACAO FRUTILLA</td>\n",
              "      <td>1</td>\n",
              "      <td>Myriam   Guzman</td>\n",
              "      <td>mylyguzman1@gmail.com</td>\n",
              "      <td>Pasaje Salitrera Primitiva 0908  PUENTE ALTO</td>\n",
              "      <td>Pasaje Salitrera Primitiva 0908  PUENTE ALTO</td>\n",
              "      <td>Despacho por - Chilexpress</td>\n",
              "      <td>3915</td>\n",
              "      <td>Webpay Plus</td>\n",
              "      <td>12745</td>\n",
              "      <td>DESPACHADO</td>\n",
              "    </tr>\n",
              "    <tr>\n",
              "      <th>4</th>\n",
              "      <td>2020-09-13</td>\n",
              "      <td>2020-09-14 20:51:48.737913</td>\n",
              "      <td>1000088198</td>\n",
              "      <td>11031105</td>\n",
              "      <td>CONTORNO OJOS MURTILLA MATICO SKU 176273999</td>\n",
              "      <td>1</td>\n",
              "      <td>Myriam   Guzman</td>\n",
              "      <td>mylyguzman1@gmail.com</td>\n",
              "      <td>Pasaje Salitrera Primitiva 0908  PUENTE ALTO</td>\n",
              "      <td>Pasaje Salitrera Primitiva 0908  PUENTE ALTO</td>\n",
              "      <td>Despacho por - Chilexpress</td>\n",
              "      <td>3915</td>\n",
              "      <td>Webpay Plus</td>\n",
              "      <td>12745</td>\n",
              "      <td>DESPACHADO</td>\n",
              "    </tr>\n",
              "  </tbody>\n",
              "</table>\n",
              "</div>"
            ],
            "text/plain": [
              "  Fecha comanda         Fecha de asignacion  ...  Total orden      Estado\n",
              "0    2020-09-13  2020-09-14 20:51:48.677024  ...        36640  DESPACHADO\n",
              "1    2020-09-13  2020-09-14 20:51:48.677024  ...        36640  DESPACHADO\n",
              "2    2020-09-13  2020-09-14 20:51:48.737913  ...        12745  DESPACHADO\n",
              "3    2020-09-13  2020-09-14 20:51:48.737913  ...        12745  DESPACHADO\n",
              "4    2020-09-13  2020-09-14 20:51:48.737913  ...        12745  DESPACHADO\n",
              "\n",
              "[5 rows x 15 columns]"
            ]
          },
          "metadata": {
            "tags": []
          },
          "execution_count": 38
        }
      ]
    },
    {
      "cell_type": "code",
      "metadata": {
        "id": "tNXt1FBA4ECE",
        "colab_type": "code",
        "colab": {}
      },
      "source": [
        "# Crear lista de boletas\n",
        "\n",
        "boletas = dataset[\"Numero de comanda\"].unique().tolist()"
      ],
      "execution_count": null,
      "outputs": []
    },
    {
      "cell_type": "code",
      "metadata": {
        "id": "-eDIZmkPt8To",
        "colab_type": "code",
        "colab": {}
      },
      "source": [
        "# Crear nuevo excel vacío\n",
        "\n",
        "excel_salida = openpyxl.Workbook()\n",
        "hoja1 = excel_salida.create_sheet(\"Hoja1\")"
      ],
      "execution_count": null,
      "outputs": []
    },
    {
      "cell_type": "code",
      "metadata": {
        "id": "JSGNl0NfpVXY",
        "colab_type": "code",
        "colab": {}
      },
      "source": [
        "# Importar fecha actual\n",
        "\n",
        "today = date.today()"
      ],
      "execution_count": null,
      "outputs": []
    },
    {
      "cell_type": "code",
      "metadata": {
        "id": "pA7N3UHa3wij",
        "colab_type": "code",
        "colab": {
          "base_uri": "https://localhost:8080/",
          "height": 34
        },
        "outputId": "0bcbe2f7-47ed-4750-d93f-087132673b42"
      },
      "source": [
        "# Recorrer lista de boletas\n",
        "\n",
        "contador = int(input(\"Ingrese el ID de inicio: \"))\n",
        "\n",
        "for i in boletas:\n",
        "  \n",
        "  hoja1.append((\"ID ORDEN SALIDA *\",\"SITIO FUENTE *\",\"TIPO *\",\"NUMERO CLIENTE\",\"FECHA EXPIRACIÓN (YYYY-MM-DD)\",\"FECHA PACTADA (YYYY-MM-DD)\",\n",
        "                \"DESTINO *\",\"PRIORIDAD\",\"DIA DE CARGA\",\"NUMERO DE BOLETA\",\"ASIGNACION PARCIAL (1/0) *\",\"BACKORDER (1/0)\",\"ASIGNACION DIRIGIDA (1/0) *\",\n",
        "                \"EMPRESA\",\"SITIO DESTINO\",\"POR APROBAR (1/0)\",\"CAMPO 1\",\"CAMPO 2\",\"CAMPO 3\",\"CAMPO 4\",\"CAMPO 5\",\"CAMPO 6\",\"CAMPO 7\",\"CAMPO 8\",\"CAMPO 9\"))\n",
        "  \n",
        "  productos_boleta = dataset.drop(dataset[dataset['Numero de comanda']!=i].index)\n",
        " \n",
        "  productos_boleta.reset_index(inplace = True)\n",
        "\n",
        "  Nombre_cliente = productos_boleta[\"Nombre cliente\"][0]\n",
        "  Email_cliente = productos_boleta[\"Email cliente\"][0]\n",
        "  Metodo_despacho = productos_boleta[\"Metodo de despacho\"][0]\n",
        "  Direccion_despacho = productos_boleta[\"Direccion de despacho\"][0]\n",
        "\n",
        "  if contador<10:\n",
        "    hoja1.append((\"OS0000000\"+str(contador),\"LP_CD02\",\"Despacho\",\"FARMACIA\",\"\",\"\",\n",
        "                \"RUTA_LP\",\"\",today.strftime(\"%Y-%m-%d\"),i,1,\"\",\"\",\n",
        "                \"FARMACIA\",\"\",\"\", Nombre_cliente, Email_cliente, Metodo_despacho,\n",
        "                Direccion_despacho,\"\",\"\",\"\",\"\",\"\"))\n",
        "  \n",
        "  elif contador<100:\n",
        "    hoja1.append((\"OS000000\"+str(contador),\"LP_CD02\",\"Despacho\",\"FARMACIA\",\"\",\"\",\n",
        "                \"RUTA_LP\",\"\",today.strftime(\"%Y-%m-%d\"),i,1,\"\",\"\",\n",
        "                \"FARMACIA\",\"\",\"\", Nombre_cliente, Email_cliente, Metodo_despacho,\n",
        "                Direccion_despacho,\"\",\"\",\"\",\"\",\"\"))\n",
        "\n",
        "  elif contador<1000:\n",
        "    hoja1.append((\"OS00000\"+str(contador),\"LP_CD02\",\"Despacho\",\"FARMACIA\",\"\",\"\",\n",
        "                \"RUTA_LP\",\"\",today.strftime(\"%Y-%m-%d\"),i,1,\"\",\"\",\n",
        "                \"FARMACIA\",\"\",\"\", Nombre_cliente, Email_cliente, Metodo_despacho,\n",
        "                Direccion_despacho,\"\",\"\",\"\",\"\",\"\"))\n",
        "    \n",
        "  elif contador<10000:\n",
        "    hoja1.append((\"OS0000\"+str(contador),\"LP_CD02\",\"Despacho\",\"FARMACIA\",\"\",\"\",\n",
        "                \"RUTA_LP\",\"\",today.strftime(\"%Y-%m-%d\"),i,1,\"\",\"\",\n",
        "                \"FARMACIA\",\"\",\"\", Nombre_cliente, Email_cliente, Metodo_despacho,\n",
        "                Direccion_despacho,\"\",\"\",\"\",\"\",\"\"))\n",
        "    \n",
        "  elif contador<100000:\n",
        "    hoja1.append((\"OS000\"+str(contador),\"LP_CD02\",\"Despacho\",\"FARMACIA\",\"\",\"\",\n",
        "                \"RUTA_LP\",\"\",today.strftime(\"%Y-%m-%d\"),i,1,\"\",\"\",\n",
        "                \"FARMACIA\",\"\",\"\", Nombre_cliente, Email_cliente, Metodo_despacho,\n",
        "                Direccion_despacho,\"\",\"\",\"\",\"\",\"\"))\n",
        "    \n",
        "  elif contador<1000000:\n",
        "    hoja1.append((\"OS00\"+str(contador),\"LP_CD02\",\"Despacho\",\"FARMACIA\",\"\",\"\",\n",
        "                \"RUTA_LP\",\"\",today.strftime(\"%Y-%m-%d\"),i,1,\"\",\"\",\n",
        "                \"FARMACIA\",\"\",\"\", Nombre_cliente, Email_cliente, Metodo_despacho,\n",
        "                Direccion_despacho,\"\",\"\",\"\",\"\",\"\"))\n",
        "  \n",
        "  elif contador<10000000:\n",
        "    hoja1.append((\"OS0\"+str(contador),\"LP_CD02\",\"Despacho\",\"FARMACIA\",\"\",\"\",\n",
        "                \"RUTA_LP\",\"\",today.strftime(\"%Y-%m-%d\"),i,1,\"\",\"\",\n",
        "                \"FARMACIA\",\"\",\"\", Nombre_cliente, Email_cliente, Metodo_despacho,\n",
        "                Direccion_despacho,\"\",\"\",\"\",\"\",\"\"))\n",
        "    \n",
        "  elif contador<100000000:\n",
        "    hoja1.append((\"OS\"+str(contador),\"LP_CD02\",\"Despacho\",\"FARMACIA\",\"\",\"\",\n",
        "                \"RUTA_LP\",\"\",today.strftime(\"%Y-%m-%d\"),i,1,\"\",\"\",\n",
        "                \"FARMACIA\",\"\",\"\", Nombre_cliente, Email_cliente, Metodo_despacho,\n",
        "                Direccion_despacho,\"\",\"\",\"\",\"\",\"\"))\n",
        "\n",
        "  hoja1.append((\"PRODUCTO *\",\"UNIDADES ORDENADAS *\",\"NUMERO GDD\",\"COSTO\",\"PRECIO VENTA\",\"NUMERO OC\",\n",
        "                \"REF NBR\",\"FECHA CADUCIDAD (YYYY-MM-DD)\",\"ASIGNAR LPN\",\"NUMERO LOTE\",\"CAMPO 01\",\"CAMPO 02\",\"\",\n",
        "                \"\",\"\",\"\",\"\",\"\",\"\",\"\",\"\",\"\",\"\",\"\",\"\"))\n",
        "  \n",
        "  for j in range(len(productos_boleta)):\n",
        "\n",
        "    hoja1.append((productos_boleta[\"Codigo producto\"][j],productos_boleta[\"Cantidad\"][j]))\n",
        "    \n",
        "  hoja1.append((\"\",\"\"))\n",
        "\n",
        "  contador += 1\n",
        "\n"
      ],
      "execution_count": null,
      "outputs": [
        {
          "output_type": "stream",
          "text": [
            "Ingrese el ID de inicio: 256\n"
          ],
          "name": "stdout"
        }
      ]
    },
    {
      "cell_type": "code",
      "metadata": {
        "id": "sM3C3c6tnVC9",
        "colab_type": "code",
        "colab": {}
      },
      "source": [
        "excel_salida.save(\"Formato.xls\")"
      ],
      "execution_count": null,
      "outputs": []
    }
  ]
}