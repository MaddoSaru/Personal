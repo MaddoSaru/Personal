{
  "nbformat": 4,
  "nbformat_minor": 0,
  "metadata": {
    "colab": {
      "name": "Untitled",
      "provenance": [],
      "authorship_tag": "ABX9TyNICDl/c133hczxZNiUtwFI",
      "include_colab_link": true
    },
    "kernelspec": {
      "name": "python3",
      "display_name": "Python 3"
    }
  },
  "cells": [
    {
      "cell_type": "markdown",
      "metadata": {
        "id": "view-in-github",
        "colab_type": "text"
      },
      "source": [
        "<a href=\"https://colab.research.google.com/github/MaddoSaru/Personal/blob/master/Data%20Analyst%20Test.ipynb\" target=\"_parent\"><img src=\"https://colab.research.google.com/assets/colab-badge.svg\" alt=\"Open In Colab\"/></a>"
      ]
    },
    {
      "cell_type": "markdown",
      "metadata": {
        "id": "RezFtFCQIe2f"
      },
      "source": [
        "**Definición del problema**"
      ]
    },
    {
      "cell_type": "code",
      "metadata": {
        "id": "mnmYDmJ26Iox"
      },
      "source": [
        "# Test Data Analyst\n",
        "\n",
        "# Preguntas a responder\n",
        "\n",
        "# 1.\tEl picking speed a nivel de orden, de producto, y de shoppers. ¿Cuál crees que es el más importante para la operación de Cornershop? ¿Por qué?\n",
        "# 2.\tPicking speed vs cantidad de productos pickeados por orden. ¿Hay alguna relación entre estas variables? ¿Por qué se podría dar esta relación?\n",
        "\n",
        "# TIP\n",
        "# Picking speed = Tiempo de compra por producto"
      ],
      "execution_count": 1,
      "outputs": []
    },
    {
      "cell_type": "markdown",
      "metadata": {
        "id": "3cbGdmeaIumu"
      },
      "source": [
        "**Instalación e importación de paquetes a utilizar**"
      ]
    },
    {
      "cell_type": "code",
      "metadata": {
        "id": "ruoEZYsqIzfY"
      },
      "source": [
        "import numpy as np\n",
        "import pandas as pd\n",
        "import matplotlib.pyplot as plt\n",
        "from datetime import datetime, timedelta"
      ],
      "execution_count": 2,
      "outputs": []
    },
    {
      "cell_type": "markdown",
      "metadata": {
        "id": "mVpcj3WCI08Q"
      },
      "source": [
        "**Lectura de datos**"
      ]
    },
    {
      "cell_type": "code",
      "metadata": {
        "id": "BW1DZSQ3I3ah"
      },
      "source": [
        "opt1 = pd.read_csv(\"orders_pickers_times_1.csv\")\n",
        "opt2 = pd.read_csv(\"orders_pickers_times_2.csv\")\n",
        "op = pd.read_csv(\"orders_products.csv\")\n",
        "op_nueva = pd.read_csv(\"orders_products.csv\")"
      ],
      "execution_count": 3,
      "outputs": []
    },
    {
      "cell_type": "markdown",
      "metadata": {
        "id": "ig4l0BdJJbaX"
      },
      "source": [
        "**Pre procesamiento de datos**"
      ]
    },
    {
      "cell_type": "code",
      "metadata": {
        "id": "s5_Qae9nJeaq"
      },
      "source": [
        "# 1 Transformar datos de tiempo en string a formato datetime\n",
        "\n",
        "opt1['Tiempo_inicio'] = pd.to_datetime(opt1['picking_shopping_time'], format=\"%Y-%m-%dT%H:%M:%S\")\n",
        "opt1['Tiempo_pago'] = pd.to_datetime(opt1['picking_checkout_time'], format=\"%Y-%m-%dT%H:%M:%S\")\n",
        "\n",
        "opt2['Tiempo_inicio'] = pd.to_datetime(opt2['picking_shopping_time'], format=\"%Y-%m-%dT%H:%M:%S\")\n",
        "opt2['Tiempo_pago'] = pd.to_datetime(opt2['picking_checkout_time'], format=\"%Y-%m-%dT%H:%M:%S\")\n",
        "\n",
        "# 2 Eliminar columna sin nombre del dataset de productos por orden\n",
        "\n",
        "op = op.drop([\"Unnamed: 0\"], axis = 1)"
      ],
      "execution_count": 4,
      "outputs": []
    },
    {
      "cell_type": "code",
      "metadata": {
        "id": "D3i8J1zdUJti",
        "colab": {
          "base_uri": "https://localhost:8080/"
        },
        "outputId": "7bb4652e-7071-4005-e2a6-3707ef539ebf"
      },
      "source": [
        "# Revisión de datos faltantes opt1\n",
        "\n",
        "opt1.isnull().sum()"
      ],
      "execution_count": 5,
      "outputs": [
        {
          "output_type": "execute_result",
          "data": {
            "text/plain": [
              "order_id                 0\n",
              "picking_checkout_time    0\n",
              "picking_shopping_time    0\n",
              "shopper_picking_id       0\n",
              "Tiempo_inicio            0\n",
              "Tiempo_pago              0\n",
              "dtype: int64"
            ]
          },
          "metadata": {
            "tags": []
          },
          "execution_count": 5
        }
      ]
    },
    {
      "cell_type": "code",
      "metadata": {
        "colab": {
          "base_uri": "https://localhost:8080/"
        },
        "id": "cab8DKn1V3yk",
        "outputId": "13251414-13a5-4e65-8f1a-b8ade238b42a"
      },
      "source": [
        "# Revisión de datos faltantes opt2\n",
        "\n",
        "opt2.isnull().sum()"
      ],
      "execution_count": 6,
      "outputs": [
        {
          "output_type": "execute_result",
          "data": {
            "text/plain": [
              "order_id                 0\n",
              "picking_checkout_time    0\n",
              "picking_shopping_time    0\n",
              "shopper_picking_id       0\n",
              "Tiempo_inicio            0\n",
              "Tiempo_pago              0\n",
              "dtype: int64"
            ]
          },
          "metadata": {
            "tags": []
          },
          "execution_count": 6
        }
      ]
    },
    {
      "cell_type": "code",
      "metadata": {
        "colab": {
          "base_uri": "https://localhost:8080/"
        },
        "id": "5l5F3LY6V4F7",
        "outputId": "0cac467f-f234-4223-ce77-61c000f88e8d"
      },
      "source": [
        "# Revisión de datos faltantes op\n",
        "\n",
        "op.isnull().sum()"
      ],
      "execution_count": 7,
      "outputs": [
        {
          "output_type": "execute_result",
          "data": {
            "text/plain": [
              "order_id      1\n",
              "product_id    1\n",
              "dtype: int64"
            ]
          },
          "metadata": {
            "tags": []
          },
          "execution_count": 7
        }
      ]
    },
    {
      "cell_type": "code",
      "metadata": {
        "colab": {
          "base_uri": "https://localhost:8080/"
        },
        "id": "4xou1ob7V_zU",
        "outputId": "150abd0f-6d02-4273-b465-ee31fe539ae7"
      },
      "source": [
        "# Eliminar fila con el product_id nulo, ya que no es representativo en el análisis\n",
        "\n",
        "op = op.dropna()\n",
        "\n",
        "# Verificar el cambio\n",
        "\n",
        "op.isnull().sum()"
      ],
      "execution_count": 8,
      "outputs": [
        {
          "output_type": "execute_result",
          "data": {
            "text/plain": [
              "order_id      0\n",
              "product_id    0\n",
              "dtype: int64"
            ]
          },
          "metadata": {
            "tags": []
          },
          "execution_count": 8
        }
      ]
    },
    {
      "cell_type": "markdown",
      "metadata": {
        "id": "qNy-294VUEW9"
      },
      "source": [
        "**Revisión del comportamiento de la data**"
      ]
    },
    {
      "cell_type": "code",
      "metadata": {
        "colab": {
          "base_uri": "https://localhost:8080/",
          "height": 204
        },
        "id": "L2KGUdh3TB_z",
        "outputId": "0bab00fe-b98c-4764-d4e4-8ea242fd294c"
      },
      "source": [
        "# Visualización del dataset de tiempos de pickeo en las órdenes (1)\n",
        "\n",
        "opt1.head(5)"
      ],
      "execution_count": 9,
      "outputs": [
        {
          "output_type": "execute_result",
          "data": {
            "text/html": [
              "<div>\n",
              "<style scoped>\n",
              "    .dataframe tbody tr th:only-of-type {\n",
              "        vertical-align: middle;\n",
              "    }\n",
              "\n",
              "    .dataframe tbody tr th {\n",
              "        vertical-align: top;\n",
              "    }\n",
              "\n",
              "    .dataframe thead th {\n",
              "        text-align: right;\n",
              "    }\n",
              "</style>\n",
              "<table border=\"1\" class=\"dataframe\">\n",
              "  <thead>\n",
              "    <tr style=\"text-align: right;\">\n",
              "      <th></th>\n",
              "      <th>order_id</th>\n",
              "      <th>picking_checkout_time</th>\n",
              "      <th>picking_shopping_time</th>\n",
              "      <th>shopper_picking_id</th>\n",
              "      <th>Tiempo_inicio</th>\n",
              "      <th>Tiempo_pago</th>\n",
              "    </tr>\n",
              "  </thead>\n",
              "  <tbody>\n",
              "    <tr>\n",
              "      <th>0</th>\n",
              "      <td>10915601</td>\n",
              "      <td>2020-04-16T15:51:36.399351Z</td>\n",
              "      <td>2020-04-16T14:20:37.435806Z</td>\n",
              "      <td>1450408</td>\n",
              "      <td>2020-04-16 14:20:37.435806+00:00</td>\n",
              "      <td>2020-04-16 15:51:36.399351+00:00</td>\n",
              "    </tr>\n",
              "    <tr>\n",
              "      <th>1</th>\n",
              "      <td>10915608</td>\n",
              "      <td>2020-04-16T17:40:56.89845Z</td>\n",
              "      <td>2020-04-16T16:47:02.837472Z</td>\n",
              "      <td>2596949</td>\n",
              "      <td>2020-04-16 16:47:02.837472+00:00</td>\n",
              "      <td>2020-04-16 17:40:56.898450+00:00</td>\n",
              "    </tr>\n",
              "    <tr>\n",
              "      <th>2</th>\n",
              "      <td>10915609</td>\n",
              "      <td>2020-04-16T17:52:54.520687Z</td>\n",
              "      <td>2020-04-16T16:36:17.784052Z</td>\n",
              "      <td>2034370</td>\n",
              "      <td>2020-04-16 16:36:17.784052+00:00</td>\n",
              "      <td>2020-04-16 17:52:54.520687+00:00</td>\n",
              "    </tr>\n",
              "    <tr>\n",
              "      <th>3</th>\n",
              "      <td>10915610</td>\n",
              "      <td>2020-04-16T22:25:32.21051Z</td>\n",
              "      <td>2020-04-16T21:25:02.171791Z</td>\n",
              "      <td>506686</td>\n",
              "      <td>2020-04-16 21:25:02.171791+00:00</td>\n",
              "      <td>2020-04-16 22:25:32.210510+00:00</td>\n",
              "    </tr>\n",
              "    <tr>\n",
              "      <th>4</th>\n",
              "      <td>10915611</td>\n",
              "      <td>2020-04-16T16:31:15.711795Z</td>\n",
              "      <td>2020-04-16T15:58:08.498429Z</td>\n",
              "      <td>1431839</td>\n",
              "      <td>2020-04-16 15:58:08.498429+00:00</td>\n",
              "      <td>2020-04-16 16:31:15.711795+00:00</td>\n",
              "    </tr>\n",
              "  </tbody>\n",
              "</table>\n",
              "</div>"
            ],
            "text/plain": [
              "   order_id  ...                      Tiempo_pago\n",
              "0  10915601  ... 2020-04-16 15:51:36.399351+00:00\n",
              "1  10915608  ... 2020-04-16 17:40:56.898450+00:00\n",
              "2  10915609  ... 2020-04-16 17:52:54.520687+00:00\n",
              "3  10915610  ... 2020-04-16 22:25:32.210510+00:00\n",
              "4  10915611  ... 2020-04-16 16:31:15.711795+00:00\n",
              "\n",
              "[5 rows x 6 columns]"
            ]
          },
          "metadata": {
            "tags": []
          },
          "execution_count": 9
        }
      ]
    },
    {
      "cell_type": "code",
      "metadata": {
        "colab": {
          "base_uri": "https://localhost:8080/",
          "height": 204
        },
        "id": "pK7RMwTGTwPi",
        "outputId": "d158a85b-6c51-457b-e3b9-634a3f8cfb92"
      },
      "source": [
        "# Visualización del dataset de tiempos de pickeo en las órdenes (2)\n",
        "\n",
        "opt2.head(5)"
      ],
      "execution_count": 10,
      "outputs": [
        {
          "output_type": "execute_result",
          "data": {
            "text/html": [
              "<div>\n",
              "<style scoped>\n",
              "    .dataframe tbody tr th:only-of-type {\n",
              "        vertical-align: middle;\n",
              "    }\n",
              "\n",
              "    .dataframe tbody tr th {\n",
              "        vertical-align: top;\n",
              "    }\n",
              "\n",
              "    .dataframe thead th {\n",
              "        text-align: right;\n",
              "    }\n",
              "</style>\n",
              "<table border=\"1\" class=\"dataframe\">\n",
              "  <thead>\n",
              "    <tr style=\"text-align: right;\">\n",
              "      <th></th>\n",
              "      <th>order_id</th>\n",
              "      <th>picking_checkout_time</th>\n",
              "      <th>picking_shopping_time</th>\n",
              "      <th>shopper_picking_id</th>\n",
              "      <th>Tiempo_inicio</th>\n",
              "      <th>Tiempo_pago</th>\n",
              "    </tr>\n",
              "  </thead>\n",
              "  <tbody>\n",
              "    <tr>\n",
              "      <th>0</th>\n",
              "      <td>17671385</td>\n",
              "      <td>2020-08-19T15:50:20.210972Z</td>\n",
              "      <td>2020-08-19T15:09:25.130534Z</td>\n",
              "      <td>2029780</td>\n",
              "      <td>2020-08-19 15:09:25.130534+00:00</td>\n",
              "      <td>2020-08-19 15:50:20.210972+00:00</td>\n",
              "    </tr>\n",
              "    <tr>\n",
              "      <th>1</th>\n",
              "      <td>17671496</td>\n",
              "      <td>2020-08-19T13:14:20.92528Z</td>\n",
              "      <td>2020-08-19T12:42:35.96972Z</td>\n",
              "      <td>2484115</td>\n",
              "      <td>2020-08-19 12:42:35.969720+00:00</td>\n",
              "      <td>2020-08-19 13:14:20.925280+00:00</td>\n",
              "    </tr>\n",
              "    <tr>\n",
              "      <th>2</th>\n",
              "      <td>17671840</td>\n",
              "      <td>2020-08-19T14:04:01.111915Z</td>\n",
              "      <td>2020-08-19T13:18:17.451617Z</td>\n",
              "      <td>2615074</td>\n",
              "      <td>2020-08-19 13:18:17.451617+00:00</td>\n",
              "      <td>2020-08-19 14:04:01.111915+00:00</td>\n",
              "    </tr>\n",
              "    <tr>\n",
              "      <th>3</th>\n",
              "      <td>17672076</td>\n",
              "      <td>2020-08-19T15:44:23.596217Z</td>\n",
              "      <td>2020-08-19T15:10:11.141956Z</td>\n",
              "      <td>2649782</td>\n",
              "      <td>2020-08-19 15:10:11.141956+00:00</td>\n",
              "      <td>2020-08-19 15:44:23.596217+00:00</td>\n",
              "    </tr>\n",
              "    <tr>\n",
              "      <th>4</th>\n",
              "      <td>17672362</td>\n",
              "      <td>2020-08-19T14:57:33.600806Z</td>\n",
              "      <td>2020-08-19T13:55:34.026273Z</td>\n",
              "      <td>4096604</td>\n",
              "      <td>2020-08-19 13:55:34.026273+00:00</td>\n",
              "      <td>2020-08-19 14:57:33.600806+00:00</td>\n",
              "    </tr>\n",
              "  </tbody>\n",
              "</table>\n",
              "</div>"
            ],
            "text/plain": [
              "   order_id  ...                      Tiempo_pago\n",
              "0  17671385  ... 2020-08-19 15:50:20.210972+00:00\n",
              "1  17671496  ... 2020-08-19 13:14:20.925280+00:00\n",
              "2  17671840  ... 2020-08-19 14:04:01.111915+00:00\n",
              "3  17672076  ... 2020-08-19 15:44:23.596217+00:00\n",
              "4  17672362  ... 2020-08-19 14:57:33.600806+00:00\n",
              "\n",
              "[5 rows x 6 columns]"
            ]
          },
          "metadata": {
            "tags": []
          },
          "execution_count": 10
        }
      ]
    },
    {
      "cell_type": "code",
      "metadata": {
        "colab": {
          "base_uri": "https://localhost:8080/",
          "height": 204
        },
        "id": "OL8cAdPoU23A",
        "outputId": "8024ae7a-fc2d-46c3-d0b2-40bbee8582af"
      },
      "source": [
        "# Visualización del dataset de productos por orden\n",
        "\n",
        "op.head(5)"
      ],
      "execution_count": 11,
      "outputs": [
        {
          "output_type": "execute_result",
          "data": {
            "text/html": [
              "<div>\n",
              "<style scoped>\n",
              "    .dataframe tbody tr th:only-of-type {\n",
              "        vertical-align: middle;\n",
              "    }\n",
              "\n",
              "    .dataframe tbody tr th {\n",
              "        vertical-align: top;\n",
              "    }\n",
              "\n",
              "    .dataframe thead th {\n",
              "        text-align: right;\n",
              "    }\n",
              "</style>\n",
              "<table border=\"1\" class=\"dataframe\">\n",
              "  <thead>\n",
              "    <tr style=\"text-align: right;\">\n",
              "      <th></th>\n",
              "      <th>order_id</th>\n",
              "      <th>product_id</th>\n",
              "    </tr>\n",
              "  </thead>\n",
              "  <tbody>\n",
              "    <tr>\n",
              "      <th>0</th>\n",
              "      <td>13310692.0</td>\n",
              "      <td>421766.0</td>\n",
              "    </tr>\n",
              "    <tr>\n",
              "      <th>1</th>\n",
              "      <td>13112721.0</td>\n",
              "      <td>423254.0</td>\n",
              "    </tr>\n",
              "    <tr>\n",
              "      <th>2</th>\n",
              "      <td>11322551.0</td>\n",
              "      <td>451837.0</td>\n",
              "    </tr>\n",
              "    <tr>\n",
              "      <th>3</th>\n",
              "      <td>13356654.0</td>\n",
              "      <td>148679.0</td>\n",
              "    </tr>\n",
              "    <tr>\n",
              "      <th>4</th>\n",
              "      <td>10582454.0</td>\n",
              "      <td>708069.0</td>\n",
              "    </tr>\n",
              "  </tbody>\n",
              "</table>\n",
              "</div>"
            ],
            "text/plain": [
              "     order_id  product_id\n",
              "0  13310692.0    421766.0\n",
              "1  13112721.0    423254.0\n",
              "2  11322551.0    451837.0\n",
              "3  13356654.0    148679.0\n",
              "4  10582454.0    708069.0"
            ]
          },
          "metadata": {
            "tags": []
          },
          "execution_count": 11
        }
      ]
    },
    {
      "cell_type": "markdown",
      "metadata": {
        "id": "XhTEGQK-Xddn"
      },
      "source": [
        "**Procesamiento de datos**"
      ]
    },
    {
      "cell_type": "code",
      "metadata": {
        "colab": {
          "base_uri": "https://localhost:8080/",
          "height": 235
        },
        "id": "_rP98p8JXhH9",
        "outputId": "5d5784a4-07e5-40cf-ce61-3f6b08361476"
      },
      "source": [
        "# Calcular cantidad de productos con orden\n",
        "\n",
        "op = op.groupby([\"order_id\"]).count()\n",
        "\n",
        "# Revisar operación\n",
        "\n",
        "op.head(5)"
      ],
      "execution_count": 12,
      "outputs": [
        {
          "output_type": "execute_result",
          "data": {
            "text/html": [
              "<div>\n",
              "<style scoped>\n",
              "    .dataframe tbody tr th:only-of-type {\n",
              "        vertical-align: middle;\n",
              "    }\n",
              "\n",
              "    .dataframe tbody tr th {\n",
              "        vertical-align: top;\n",
              "    }\n",
              "\n",
              "    .dataframe thead th {\n",
              "        text-align: right;\n",
              "    }\n",
              "</style>\n",
              "<table border=\"1\" class=\"dataframe\">\n",
              "  <thead>\n",
              "    <tr style=\"text-align: right;\">\n",
              "      <th></th>\n",
              "      <th>product_id</th>\n",
              "    </tr>\n",
              "    <tr>\n",
              "      <th>order_id</th>\n",
              "      <th></th>\n",
              "    </tr>\n",
              "  </thead>\n",
              "  <tbody>\n",
              "    <tr>\n",
              "      <th>10412027.0</th>\n",
              "      <td>7</td>\n",
              "    </tr>\n",
              "    <tr>\n",
              "      <th>10433676.0</th>\n",
              "      <td>25</td>\n",
              "    </tr>\n",
              "    <tr>\n",
              "      <th>10433964.0</th>\n",
              "      <td>15</td>\n",
              "    </tr>\n",
              "    <tr>\n",
              "      <th>10434046.0</th>\n",
              "      <td>25</td>\n",
              "    </tr>\n",
              "    <tr>\n",
              "      <th>10434089.0</th>\n",
              "      <td>15</td>\n",
              "    </tr>\n",
              "  </tbody>\n",
              "</table>\n",
              "</div>"
            ],
            "text/plain": [
              "            product_id\n",
              "order_id              \n",
              "10412027.0           7\n",
              "10433676.0          25\n",
              "10433964.0          15\n",
              "10434046.0          25\n",
              "10434089.0          15"
            ]
          },
          "metadata": {
            "tags": []
          },
          "execution_count": 12
        }
      ]
    },
    {
      "cell_type": "code",
      "metadata": {
        "id": "4vHox_TPa0P1"
      },
      "source": [
        "# Cruce de dataframes\n",
        "\n",
        "opt1 = pd.merge(left=opt1,right=op, left_on='order_id', right_on='order_id')\n",
        "opt2 = pd.merge(left=opt2,right=op, left_on='order_id', right_on='order_id')\n",
        "\n",
        "opt1 = opt1.rename(columns = {\"product_id\" : \"Cantidad_productos\"})\n",
        "opt2 = opt2.rename(columns = {\"product_id\" : \"Cantidad_productos\"})"
      ],
      "execution_count": 13,
      "outputs": []
    },
    {
      "cell_type": "code",
      "metadata": {
        "colab": {
          "base_uri": "https://localhost:8080/",
          "height": 49
        },
        "id": "RcPYJEPQeIE1",
        "outputId": "945f4584-34e1-4674-e6b7-93698f43a2a0"
      },
      "source": [
        "# Verificar que no existen similitudes en los campos (order_id repetidas)\n",
        "\n",
        "opt1.merge(opt2, how = 'inner')"
      ],
      "execution_count": 14,
      "outputs": [
        {
          "output_type": "execute_result",
          "data": {
            "text/html": [
              "<div>\n",
              "<style scoped>\n",
              "    .dataframe tbody tr th:only-of-type {\n",
              "        vertical-align: middle;\n",
              "    }\n",
              "\n",
              "    .dataframe tbody tr th {\n",
              "        vertical-align: top;\n",
              "    }\n",
              "\n",
              "    .dataframe thead th {\n",
              "        text-align: right;\n",
              "    }\n",
              "</style>\n",
              "<table border=\"1\" class=\"dataframe\">\n",
              "  <thead>\n",
              "    <tr style=\"text-align: right;\">\n",
              "      <th></th>\n",
              "      <th>order_id</th>\n",
              "      <th>picking_checkout_time</th>\n",
              "      <th>picking_shopping_time</th>\n",
              "      <th>shopper_picking_id</th>\n",
              "      <th>Tiempo_inicio</th>\n",
              "      <th>Tiempo_pago</th>\n",
              "      <th>Cantidad_productos</th>\n",
              "    </tr>\n",
              "  </thead>\n",
              "  <tbody>\n",
              "  </tbody>\n",
              "</table>\n",
              "</div>"
            ],
            "text/plain": [
              "Empty DataFrame\n",
              "Columns: [order_id, picking_checkout_time, picking_shopping_time, shopper_picking_id, Tiempo_inicio, Tiempo_pago, Cantidad_productos]\n",
              "Index: []"
            ]
          },
          "metadata": {
            "tags": []
          },
          "execution_count": 14
        }
      ]
    },
    {
      "cell_type": "markdown",
      "metadata": {
        "id": "ZRey9pziAl-k"
      },
      "source": [
        "**Cálculo de nuevas variables**"
      ]
    },
    {
      "cell_type": "code",
      "metadata": {
        "id": "L82oqbc9ArSS"
      },
      "source": [
        "# Tiempo utilizado en minutos\n",
        "\n",
        "opt1[\"diferencia_tiempos\"] = (opt1[\"Tiempo_pago\"]-opt1[\"Tiempo_inicio\"])\n",
        "opt2[\"diferencia_tiempos\"] = (opt2[\"Tiempo_pago\"]-opt2[\"Tiempo_inicio\"])\n",
        "\n",
        "opt1[\"diferencia_tiempos\"]= (opt1[\"diferencia_tiempos\"].dt.total_seconds())/60\n",
        "opt2[\"diferencia_tiempos\"]= (opt2[\"diferencia_tiempos\"].dt.total_seconds())/60\n"
      ],
      "execution_count": 15,
      "outputs": []
    },
    {
      "cell_type": "code",
      "metadata": {
        "id": "j3BiPhybMcH3"
      },
      "source": [
        "opt = pd.concat([opt1,opt2], axis=0)"
      ],
      "execution_count": 16,
      "outputs": []
    },
    {
      "cell_type": "code",
      "metadata": {
        "id": "0k16jVsVJ7T6"
      },
      "source": [
        "# Generar variables\n",
        "\n",
        "# Picking speed por producto\n",
        "\n",
        "opt[\"ps_producto\"] = opt[\"diferencia_tiempos\"]/opt['Cantidad_productos']\n",
        "\n",
        "# Picking speed por orden (el dataframe está agurpado por orden)\n",
        "\n",
        "opt[\"ps_orden\"] = opt['diferencia_tiempos']\n",
        "\n",
        "# Picking speed por shopper\n",
        "\n",
        "opt[\"ps_shopper\"] = opt.groupby([\"shopper_picking_id\"]).sum()[\"diferencia_tiempos\"]/opt.groupby([\"shopper_picking_id\"]).sum()[\"Cantidad_productos\"]"
      ],
      "execution_count": 17,
      "outputs": []
    },
    {
      "cell_type": "code",
      "metadata": {
        "id": "aBqS0afh8Cke"
      },
      "source": [
        "# Gráfico de producto vs picking speed por producto\n",
        "\n",
        "# opt_por_producto = pd.merge(left=opt,right=op_nueva, left_on='order_id', right_on='order_id', left_index=True)\n",
        "\n",
        "# Agrupar por producto la base de datos. Se toma en consideración la media del picking speed\n",
        "\n",
        "# opt_por_producto = opt_por_producto.rename_axis(\"index\").reset_index()\n",
        "\n",
        "# opt_por_producto = opt_por_producto.groupby([\"product_id\"]).mean()\n",
        "\n",
        "# plt.plot(opt_por_producto[\"product_id\"], opt_por_producto[\"ps_producto\"])\n",
        "# plt.title('producto vs ps_producto')\n",
        "# plt.xlabel('Producto')\n",
        "# plt.ylabel('ps_producto')\n",
        "# plt.show()\n",
        "\n",
        "# El gráfico sugiere agrupar la data, ya que son muchos productos a graficar. Se detiene el entorno de ejecucion por exceso de ram utilizada en el proceso"
      ],
      "execution_count": 18,
      "outputs": []
    },
    {
      "cell_type": "code",
      "metadata": {
        "id": "3fI_PrObQqi9",
        "outputId": "cba52503-3ff8-4282-da23-81b7f2fbaa8a",
        "colab": {
          "base_uri": "https://localhost:8080/",
          "height": 295
        }
      },
      "source": [
        "# Gráfico de órdenes vs picking speed por orden\n",
        "\n",
        "plt.plot(opt[\"order_id\"], opt[\"ps_orden\"])\n",
        "plt.title('orden vs ps_orden')\n",
        "plt.xlabel('Orden')\n",
        "plt.ylabel('ps_orden')\n",
        "plt.show()"
      ],
      "execution_count": 20,
      "outputs": [
        {
          "output_type": "display_data",
          "data": {
            "image/png": "[encoded data removed]",
            "text/plain": [
              "<Figure size 432x288 with 1 Axes>"
            ]
          },
          "metadata": {
            "tags": [],
            "needs_background": "light"
          }
        }
      ]
    },
    {
      "cell_type": "code",
      "metadata": {
        "id": "COMWlsar7UXi",
        "outputId": "4035ba69-80cd-4870-8177-59eae20cd35e",
        "colab": {
          "base_uri": "https://localhost:8080/",
          "height": 295
        }
      },
      "source": [
        "# Gráfico de shoppers vs picking speed por shopper\n",
        "\n",
        "plt.plot(opt[\"shopper_picking_id\"], opt[\"ps_shopper\"])\n",
        "plt.title('shopper vs ps_shopper')\n",
        "plt.xlabel('Shopper')\n",
        "plt.ylabel('ps_shopper')\n",
        "plt.show()"
      ],
      "execution_count": 21,
      "outputs": [
        {
          "output_type": "display_data",
          "data": {
            "image/png": "[encoded data removed]",
            "text/plain": [
              "<Figure size 432x288 with 1 Axes>"
            ]
          },
          "metadata": {
            "tags": [],
            "needs_background": "light"
          }
        }
      ]
    },
    {
      "cell_type": "code",
      "metadata": {
        "id": "px41TXgbEFcl",
        "outputId": "89534d8b-90c0-4215-b48a-9abd58b02e12",
        "colab": {
          "base_uri": "https://localhost:8080/",
          "height": 296
        }
      },
      "source": [
        "# Picking speed vs Cantidad de productos\n",
        "\n",
        "opt_new = opt.groupby([\"Cantidad_productos\"]).mean()\n",
        "opt_new = opt_new.reset_index()\n",
        "\n",
        "plt.plot(opt_new[\"Cantidad_productos\"], opt_new[\"ps_orden\"])\n",
        "plt.title('ps_orden vs Cantidad de productos')\n",
        "plt.xlabel('Cantidad_productos')\n",
        "plt.ylabel('ps_orden')\n",
        "plt.xlim((0,250))\n",
        "plt.ylim((0,500))\n",
        "plt.show()"
      ],
      "execution_count": 39,
      "outputs": [
        {
          "output_type": "display_data",
          "data": {
            "image/png": "[encoded data removed]",
            "text/plain": [
              "<Figure size 432x288 with 1 Axes>"
            ]
          },
          "metadata": {
            "tags": [],
            "needs_background": "light"
          }
        }
      ]
    }
  ]
}